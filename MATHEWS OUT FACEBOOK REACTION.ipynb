{
 "cells": [
  {
   "cell_type": "code",
   "execution_count": 57,
   "id": "c0f7b822",
   "metadata": {},
   "outputs": [
    {
     "name": "stderr",
     "output_type": "stream",
     "text": [
      "C:\\Users\\Hp\\anaconda3\\Lib\\site-packages\\facebook_scraper\\facebook_scraper.py:912: UserWarning: Facebook says 'Unsupported Browser'\n",
      "  warnings.warn(f\"Facebook says 'Unsupported Browser'\")\n",
      "C:\\Users\\Hp\\anaconda3\\Lib\\site-packages\\facebook_scraper\\facebook_scraper.py:908: UserWarning: Facebook served mbasic/noscript content unexpectedly on https://m.facebook.com/groups/137845530165539/permalink/1344639409486139/?_rdr\n",
      "  warnings.warn(\n"
     ]
    },
    {
     "name": "stdout",
     "output_type": "stream",
     "text": [
      "তুমি একমাত্র ভরসা\n",
      "\n",
      "love u Mahmudullah\n"
     ]
    },
    {
     "name": "stderr",
     "output_type": "stream",
     "text": [
      "C:\\Users\\Hp\\anaconda3\\Lib\\site-packages\\facebook_scraper\\facebook_scraper.py:908: UserWarning: Facebook served mbasic/noscript content unexpectedly on https://m.facebook.com/groups/137845530165539/permalink/1347030109247069/?_rdr\n",
      "  warnings.warn(\n"
     ]
    },
    {
     "name": "stdout",
     "output_type": "stream",
     "text": [
      "বাংলাদেশ ক্রিকেট দল\n",
      "ইন্ডিয়া কামলা দিয়ে বাড়ি ফেরার পথে....আমাদের সোনার ছেলেরা...\n"
     ]
    },
    {
     "name": "stderr",
     "output_type": "stream",
     "text": [
      "C:\\Users\\Hp\\anaconda3\\Lib\\site-packages\\facebook_scraper\\facebook_scraper.py:908: UserWarning: Facebook served mbasic/noscript content unexpectedly on https://m.facebook.com/groups/137845530165539/permalink/1346961972587216/?_rdr\n",
      "  warnings.warn(\n"
     ]
    },
    {
     "name": "stdout",
     "output_type": "stream",
     "text": [
      "সাকিব আল হাসানের ১৭ বছরের ক্যারিয়ারে সবচেয়ে বড় ভুলটা হলো পাপনের কথা শুনে এবারের বিশ্বকাপের অধিনায়কত্ব নিজের কাধে নেয়া।\n",
      "সাকিব যে ২০১৯ সালে নিষিদ্ধ হইছিলো তখনও সাকিবের হেটার্সরা সাকিব কে এত ট্রল করতো না এখন যা ট্রল করতেছে।\n",
      "বিসিবির কোন বাই**দ বোর্ড কর্মকর্তা তামিমকে ফোন দেয়, তাঁর সাথে তামিমের বনিবনা না হওয়ায় তামিম বিশ্বকাপে যায়নি, অথচ যে হালায় খেলা না দেখে সেও বলে সাকিব তামিমরে বাদ দিছে, সব দোষ সাকিবের।\n",
      "দলের বোলারা বাজে বল করে, সব দোষ সাকিবের।\n",
      "ফিল্ডাররা ক্যাচ মিস করলে দোষ সাকিবের,\n",
      "ব্যাটাররা নেমেই আউট হয়ে গেলে, দোষ সাকিবের।\n",
      "বিপক্ষ দল ৩৫০+ রান করলে, দোষ সাকিবের।\n",
      "বাংলাদেশ ম্যাচ হারলো দোষ সাকিবের।\n",
      "সাকিব যদি পাপইন্না কথা শুনে অধিনায়কত্ব না নিতো তাহলে আজ এত ট্রল খাইতো না।\n",
      "সাকিব ভাই তো আর জানতো না যে এই দেশের মানুষের বিবেকের চেয়ে আবেগ বেশি।\n",
      "যারা আবেগ খাওয়াইতে পারবো তাঁরাই এদেশের মানুষের কাছে পীর হয়ে থাকবে।\n"
     ]
    },
    {
     "name": "stderr",
     "output_type": "stream",
     "text": [
      "C:\\Users\\Hp\\anaconda3\\Lib\\site-packages\\facebook_scraper\\facebook_scraper.py:908: UserWarning: Facebook served mbasic/noscript content unexpectedly on https://m.facebook.com/groups/137845530165539/permalink/1347023312581082/?_rdr\n",
      "  warnings.warn(\n"
     ]
    },
    {
     "name": "stdout",
     "output_type": "stream",
     "text": [
      "যতদিন পর্যন্ত বাংলাদেশের টিম ম্যানেজমেন্ট পরিবর্তন না হবে, ততদিন পর্যন্ত বাংলাদেশের অবস্থা আরো খারাপের দিকেই যাবে।\n"
     ]
    },
    {
     "name": "stderr",
     "output_type": "stream",
     "text": [
      "C:\\Users\\Hp\\anaconda3\\Lib\\site-packages\\facebook_scraper\\facebook_scraper.py:908: UserWarning: Facebook served mbasic/noscript content unexpectedly on https://m.facebook.com/groups/137845530165539/permalink/1346962209253859/?_rdr\n",
      "  warnings.warn(\n"
     ]
    },
    {
     "name": "stdout",
     "output_type": "stream",
     "text": [
      "সেই সব বা..পাকনা দের বলি, যারা বলেছিল তামিম ছাড়া দল হেন করেগা তেন করেগা। পাইলেই হইছে কি যে করুম আল্লাহ মালুম, সামনে পরিস না কইলাম।\n",
      "বাংলাদেশ ক্রিকেট এর এ অবনতির জন্য কে দায়ী?\n",
      "আপনার মতামত জানান!\n"
     ]
    },
    {
     "name": "stderr",
     "output_type": "stream",
     "text": [
      "C:\\Users\\Hp\\anaconda3\\Lib\\site-packages\\facebook_scraper\\facebook_scraper.py:908: UserWarning: Facebook served mbasic/noscript content unexpectedly on https://m.facebook.com/groups/137845530165539/permalink/1346957425921004/?_rdr\n",
      "  warnings.warn(\n"
     ]
    },
    {
     "name": "stdout",
     "output_type": "stream",
     "text": [
      "কিছু বলার নাই\n"
     ]
    },
    {
     "name": "stderr",
     "output_type": "stream",
     "text": [
      "C:\\Users\\Hp\\anaconda3\\Lib\\site-packages\\facebook_scraper\\facebook_scraper.py:908: UserWarning: Facebook served mbasic/noscript content unexpectedly on https://m.facebook.com/groups/137845530165539/permalink/1346962379253842/?_rdr\n",
      "  warnings.warn(\n"
     ]
    },
    {
     "name": "stdout",
     "output_type": "stream",
     "text": [
      "এই হার আসা করি নি তাও নেদারল্যান্ডস এর কাছে 😅\n",
      "সাব্বাস বাংলাদেশ সাবাস😅👏\n",
      "অসাধারণ খেলা খেলছেন আরো এগিয়ে যান আপনারা\n"
     ]
    },
    {
     "name": "stderr",
     "output_type": "stream",
     "text": [
      "C:\\Users\\Hp\\anaconda3\\Lib\\site-packages\\facebook_scraper\\facebook_scraper.py:908: UserWarning: Facebook served mbasic/noscript content unexpectedly on https://m.facebook.com/groups/137845530165539/permalink/1346988825917864/?_rdr\n",
      "  warnings.warn(\n"
     ]
    },
    {
     "name": "stdout",
     "output_type": "stream",
     "text": [
      "Captain fantastic ❤️🇧🇩\n",
      "Mashrafe Bin Mortaza 👑\n",
      "\n",
      "মাশরাফি শুধুই খেলোয়াড় ছিলোনা,,ছিলেন একজন নেতা এবং দলে এতো রাজনীতি ছিলোনা তখন কার সময়!!\n",
      "\n",
      "ম্যাচ হারলেও এমন লজ্জাজনক ভাবে হারতাম না। দলটা গোছানো ছিলো!!\n"
     ]
    },
    {
     "name": "stderr",
     "output_type": "stream",
     "text": [
      "C:\\Users\\Hp\\anaconda3\\Lib\\site-packages\\facebook_scraper\\facebook_scraper.py:908: UserWarning: Facebook served mbasic/noscript content unexpectedly on https://m.facebook.com/groups/137845530165539/permalink/1331725440777536/?_rdr\n",
      "  warnings.warn(\n"
     ]
    },
    {
     "name": "stdout",
     "output_type": "stream",
     "text": [
      "আজকালকার পোলাপান নিজের যোগ্যতা না দেখে।\n",
      "সাকিব আল হাসান কে নিয়ে ট্রল করে 🙄\n",
      "ভাইয়া আপনি হয়তো জানেন না যে আপনার ফ্রেন্ডলিস্টে থাকা কিছু পাবলিক আপনার এই পোস্টগুলো দেখে তারাও কিন্তু সাকিব আল হাসান এর বিশাল বড় ভক্ত।\n",
      "ভাই আপনি ইতিহাস গাড়িটা দেখেন যে বাংলাদেশ ক্রিকেট এ সাকিব আল হাসানের অবদান কতটুকু।\n",
      "মানলাম সে বিজ্ঞাপন করে শোরুম উদ্বোধন করে।\n",
      "বাই তাতে আপনার সমস্যাটা কি 🤔\n",
      "বিজ্ঞাপন এবং শোরুম উদ্বোধন করতে গিয়ে তো খেলার ভিতরে কোনো খারাপ প্রভাব তার পড়ে নাই।\n",
      "তাহলে তাকে নিয়ে ট্রল করার কি আছে।\n",
      "ভাই হতে পারে আপনি অন্য ক্রিকেটারের সাপোর্টার কিন্তু আপনাকে এটা মানতে হবে যে বাংলাদেশের ক্রিকেটের রাজা👑 হলেন Shakib Al Hasan\n",
      "শুধু বাংলাদেশের বলে ভুল হবে পুরো বিশ্বের মধ্যে ক্রিকেটের একজন কিংবদন্তি তিনি।\n",
      "সবশেষে একটা কথাই বলব যে একজন খেলা প্রেমিক কখনো কোনো খেলোয়ারকে নিয়ে ট্রল করতে পারে না। আর যে শুধু খেলোয়াড়দের নিয়ে ট্রল করে সে একজন খেলা প্রেমী হতে পারে না\n"
     ]
    },
    {
     "name": "stderr",
     "output_type": "stream",
     "text": [
      "C:\\Users\\Hp\\anaconda3\\Lib\\site-packages\\facebook_scraper\\facebook_scraper.py:908: UserWarning: Facebook served mbasic/noscript content unexpectedly on https://m.facebook.com/groups/137845530165539/permalink/1344680126148734/?_rdr\n",
      "  warnings.warn(\n"
     ]
    },
    {
     "name": "stdout",
     "output_type": "stream",
     "text": [
      "বাংলাদেশের হারের ম্যাচে মাহমুদের সেঞ্চুরি, তারপর কিছু মানুষের গায়ে চুলকাইতাছে।\n",
      "অভিনন্দন Mahmudullah Riyad\n"
     ]
    },
    {
     "name": "stderr",
     "output_type": "stream",
     "text": [
      "C:\\Users\\Hp\\anaconda3\\Lib\\site-packages\\facebook_scraper\\facebook_scraper.py:908: UserWarning: Facebook served mbasic/noscript content unexpectedly on https://m.facebook.com/groups/137845530165539/permalink/1337168333566580/?_rdr\n",
      "  warnings.warn(\n"
     ]
    },
    {
     "name": "stdout",
     "output_type": "stream",
     "text": [
      "আমরা যেখানে অল আউট হয়ে যাই সেখানে পাকিস্তান ম্যাচ জিতে যায়😅👏\n",
      "congratulation Pakistan 🇵🇰👏🎉🎉\n"
     ]
    },
    {
     "name": "stderr",
     "output_type": "stream",
     "text": [
      "C:\\Users\\Hp\\anaconda3\\Lib\\site-packages\\facebook_scraper\\facebook_scraper.py:908: UserWarning: Facebook served mbasic/noscript content unexpectedly on https://m.facebook.com/groups/137845530165539/permalink/1344821742801239/?_rdr\n",
      "  warnings.warn(\n"
     ]
    },
    {
     "name": "stdout",
     "output_type": "stream",
     "text": [
      "ভুল করে আফ্রিকার জঙ্গলে ডুকে পড়েছিলো বাংলাদেশের টাইগাররা। এরপর আফ্রিকার সিংহরা মিলে টেনে হিঁচড়ে এই অবস্থা করছে 🤭😂 🇧🇩🏏\n"
     ]
    },
    {
     "name": "stderr",
     "output_type": "stream",
     "text": [
      "C:\\Users\\Hp\\anaconda3\\Lib\\site-packages\\facebook_scraper\\facebook_scraper.py:908: UserWarning: Facebook served mbasic/noscript content unexpectedly on https://m.facebook.com/groups/137845530165539/permalink/1344590212824392/?_rdr\n",
      "  warnings.warn(\n"
     ]
    },
    {
     "name": "stdout",
     "output_type": "stream",
     "text": [
      "One Man Army 💪\n",
      "Silent Killer 😃\n",
      "Old Man.....❤️‍🔥\n",
      "Mahmudullah Riyad vaiiiiiiiiii✨❤️‍🔥\n"
     ]
    },
    {
     "name": "stderr",
     "output_type": "stream",
     "text": [
      "C:\\Users\\Hp\\anaconda3\\Lib\\site-packages\\facebook_scraper\\facebook_scraper.py:908: UserWarning: Facebook served mbasic/noscript content unexpectedly on https://m.facebook.com/groups/137845530165539/permalink/1344620382821375/?_rdr\n",
      "  warnings.warn(\n"
     ]
    },
    {
     "name": "stdout",
     "output_type": "stream",
     "text": [
      "Congratulations💪 MAHAMUDULLAH RIYAD\n",
      "\n",
      "কিরে নান্নু,,,তোর মায়ের দোয়া টিমের আর কত হাল দরবো।এই মানুষ টা কে কত অপমান দল থেকে বাদ দেওয়ার জন্য পরিকল্পনা করছিলি। হায় রে পাপু দা নান্নু,,,,,হালার পুত,,বেশি কইলাম না।🙂😊\n"
     ]
    },
    {
     "name": "stderr",
     "output_type": "stream",
     "text": [
      "C:\\Users\\Hp\\anaconda3\\Lib\\site-packages\\facebook_scraper\\facebook_scraper.py:908: UserWarning: Facebook served mbasic/noscript content unexpectedly on https://m.facebook.com/groups/137845530165539/permalink/1344627982820615/?_rdr\n",
      "  warnings.warn(\n"
     ]
    },
    {
     "name": "stdout",
     "output_type": "stream",
     "text": [
      "Remember the name : Mahmudullah Riyad\n",
      "\n",
      "দিন শেষে প্রাপ্তি এই একটাই দৃশ্য\n",
      "\n",
      "৪র্থ ওয়ানডে সেঞ্চুরি এবং ৩য় বিশ্বকাপ সেঞ্চুরি 🏏\n",
      "বিশ্বকাপে বাংলাদেশের হয়ে সর্বোচ্চ সংখ্যক সেঞ্চুরির মালিক এখন মাহমুদউল্লাহ রিয়াদ 🖤\n",
      "\n",
      "কেউ আপনাকে বাতিলের খাতায় ফেলে দিলে আপনি ঠিক মাহমুদউল্লাহ রিয়াদের মতোই ফিরতে চাইবেন...💓\n"
     ]
    },
    {
     "name": "stderr",
     "output_type": "stream",
     "text": [
      "C:\\Users\\Hp\\anaconda3\\Lib\\site-packages\\facebook_scraper\\facebook_scraper.py:908: UserWarning: Facebook served mbasic/noscript content unexpectedly on https://m.facebook.com/groups/137845530165539/permalink/1344686262814787/?_rdr\n",
      "  warnings.warn(\n"
     ]
    },
    {
     "name": "stdout",
     "output_type": "stream",
     "text": [
      "সাকিবের জায়গায় মাহামুদুল্লাহকে আর মাহামুদুল্লাহর জায়গায় সাকিবকে ব্যাটিং করালেই দলের অবস্হা পরিবর্তন হবে।আমরা মাহামুদুল্লাহ ও সাকিবের ব্যাটিং পজিশন অদল বদল দেখতে চাই।\n"
     ]
    },
    {
     "name": "stderr",
     "output_type": "stream",
     "text": [
      "C:\\Users\\Hp\\anaconda3\\Lib\\site-packages\\facebook_scraper\\facebook_scraper.py:908: UserWarning: Facebook served mbasic/noscript content unexpectedly on https://m.facebook.com/groups/137845530165539/permalink/1344786346138112/?_rdr\n",
      "  warnings.warn(\n"
     ]
    },
    {
     "name": "stdout",
     "output_type": "stream",
     "text": [
      "One men army🏏❤️\n",
      "111 run 111 ball\n",
      "Strike rate 100\n",
      "#MahmudullahRiyad #Mahmudullah\n"
     ]
    },
    {
     "name": "stderr",
     "output_type": "stream",
     "text": [
      "C:\\Users\\Hp\\anaconda3\\Lib\\site-packages\\facebook_scraper\\facebook_scraper.py:908: UserWarning: Facebook served mbasic/noscript content unexpectedly on https://m.facebook.com/groups/137845530165539/permalink/1344866582796755/?_rdr\n",
      "  warnings.warn(\n"
     ]
    },
    {
     "name": "stdout",
     "output_type": "stream",
     "text": [
      "রিয়াদের এই শতকটা কারো জন্য উতস্বর্গ করেননি,\n",
      "তাই এই শতকটা, নির্বাচক ও হাতুরুর গালে ১০০ টা\n",
      "থাপ্পড়ে কনবার্ট করলাম।\n",
      "সে কিছুই না, সবই সৃষ্টিকর্তার উদ্দেশ্য! আপনি যোদ্ধা, আপনি নায়ক, আপনি মহানায়ক! 🤍\n",
      "\n",
      "রিয়াদরা এমনই! কখনো বা দলকে জেতায় আবার কখনো বা দলকে লজ্জা থেকে বাঁচায়!🇧🇩\n",
      "\n",
      "তার বিকল্প এখনো বের করতে পারেন নাই, অথচ তাকে বাদ দিতে কত নাটক করছিলেন.!😊\n",
      "\n",
      "আমাদের সাইলেন্ট কিলার 😊\n",
      "\n",
      "Mahmudullah Riyad 💓\n"
     ]
    },
    {
     "name": "stderr",
     "output_type": "stream",
     "text": [
      "C:\\Users\\Hp\\anaconda3\\Lib\\site-packages\\facebook_scraper\\facebook_scraper.py:908: UserWarning: Facebook served mbasic/noscript content unexpectedly on https://m.facebook.com/groups/137845530165539/permalink/1344893716127375/?_rdr\n",
      "  warnings.warn(\n"
     ]
    }
   ],
   "source": [
    "from facebook_scraper import get_posts\n",
    "\n",
    "for post in get_posts('137845530165539'):\n",
    "     print(post['text'])\n",
    "    "
   ]
  },
  {
   "cell_type": "code",
   "execution_count": 4,
   "id": "c8c044e7",
   "metadata": {},
   "outputs": [],
   "source": [
    "def comment_reply(POST_ID,MAX_COMMENTS=100):\n",
    "    import facebook_scraper as fs\n",
    "    import pandas as pd\n",
    "    gen = fs.get_posts(\n",
    "    post_urls=[POST_ID],\n",
    "    options={\"comments\": MAX_COMMENTS, \"progress\": True}\n",
    "    )\n",
    "# take 1st element of the generator which is the post we requested\n",
    "    post = next(gen)\n",
    "# extract the comments part\n",
    "    comments = post['comments_full']\n",
    "    commant = []\n",
    "    for comment in comments:\n",
    "        commant.append(comment)\n",
    "        \n",
    "    dat = pd.DataFrame(commant)      \n",
    "    d= dat['replies']\n",
    "    new = dat[['comment_id','commenter_id','comment_text']]\n",
    "    replies = []\n",
    "    for k in range(len(d)):\n",
    "        replies.append([i['comment_text'] for i in d[k]]) \n",
    "    new['replies']=replies  \n",
    "    new['replies']= new['replies'].apply(lambda x:\"N\" if not x else x)\n",
    "    new['count']=new['replies'].apply(lambda x: len(x))\n",
    "    now_rows = []\n",
    "    for i in range(new.shape[0]):\n",
    "        now_rows.append(pd.concat([new.loc[i]]*new['count'].loc[i], axis = 1).transpose())\n",
    "    Comments = pd.concat(now_rows)\n",
    "    Reply = [r for y in new['replies'] for r in y]\n",
    "    Comments['Reply']= Reply\n",
    "    Comments = Comments[['comment_id','commenter_id','comment_text','Reply']]\n",
    "    return Comments\n"
   ]
  },
  {
   "cell_type": "code",
   "execution_count": 93,
   "id": "741d3f5c",
   "metadata": {},
   "outputs": [
    {
     "name": "stderr",
     "output_type": "stream",
     "text": [
      "C:\\Users\\Hp\\anaconda3\\Lib\\site-packages\\facebook_scraper\\facebook_scraper.py:912: UserWarning: Facebook says 'Unsupported Browser'\n",
      "  warnings.warn(f\"Facebook says 'Unsupported Browser'\")\n"
     ]
    },
    {
     "data": {
      "application/vnd.jupyter.widget-view+json": {
       "model_id": "305f3e903e204cccaddd5c866b54e996",
       "version_major": 2,
       "version_minor": 0
      },
      "text/plain": [
       "  0%|          | 0/100 [00:00<?, ?it/s]"
      ]
     },
     "metadata": {},
     "output_type": "display_data"
    },
    {
     "name": "stderr",
     "output_type": "stream",
     "text": [
      "C:\\Users\\Hp\\AppData\\Local\\Temp\\ipykernel_11584\\2698121945.py:22: SettingWithCopyWarning: \n",
      "A value is trying to be set on a copy of a slice from a DataFrame.\n",
      "Try using .loc[row_indexer,col_indexer] = value instead\n",
      "\n",
      "See the caveats in the documentation: https://pandas.pydata.org/pandas-docs/stable/user_guide/indexing.html#returning-a-view-versus-a-copy\n",
      "  new['replies']=replies\n",
      "C:\\Users\\Hp\\AppData\\Local\\Temp\\ipykernel_11584\\2698121945.py:23: SettingWithCopyWarning: \n",
      "A value is trying to be set on a copy of a slice from a DataFrame.\n",
      "Try using .loc[row_indexer,col_indexer] = value instead\n",
      "\n",
      "See the caveats in the documentation: https://pandas.pydata.org/pandas-docs/stable/user_guide/indexing.html#returning-a-view-versus-a-copy\n",
      "  new['replies']= new['replies'].apply(lambda x:\"N\" if not x else x)\n",
      "C:\\Users\\Hp\\AppData\\Local\\Temp\\ipykernel_11584\\2698121945.py:24: SettingWithCopyWarning: \n",
      "A value is trying to be set on a copy of a slice from a DataFrame.\n",
      "Try using .loc[row_indexer,col_indexer] = value instead\n",
      "\n",
      "See the caveats in the documentation: https://pandas.pydata.org/pandas-docs/stable/user_guide/indexing.html#returning-a-view-versus-a-copy\n",
      "  new['count']=new['replies'].apply(lambda x: len(x))\n"
     ]
    },
    {
     "data": {
      "text/html": [
       "<div>\n",
       "<style scoped>\n",
       "    .dataframe tbody tr th:only-of-type {\n",
       "        vertical-align: middle;\n",
       "    }\n",
       "\n",
       "    .dataframe tbody tr th {\n",
       "        vertical-align: top;\n",
       "    }\n",
       "\n",
       "    .dataframe thead th {\n",
       "        text-align: right;\n",
       "    }\n",
       "</style>\n",
       "<table border=\"1\" class=\"dataframe\">\n",
       "  <thead>\n",
       "    <tr style=\"text-align: right;\">\n",
       "      <th></th>\n",
       "      <th>comment_id</th>\n",
       "      <th>commenter_id</th>\n",
       "      <th>comment_text</th>\n",
       "      <th>Reply</th>\n",
       "    </tr>\n",
       "  </thead>\n",
       "  <tbody>\n",
       "    <tr>\n",
       "      <th>0</th>\n",
       "      <td>7140507969301526</td>\n",
       "      <td>100049145897339</td>\n",
       "      <td>না জিতলে বাঁশ,\\nজিতলে সাবাস।</td>\n",
       "      <td>N</td>\n",
       "    </tr>\n",
       "    <tr>\n",
       "      <th>1</th>\n",
       "      <td>6955647011158979</td>\n",
       "      <td>100085616453028</td>\n",
       "      <td>Our king👑#Babar_Azam is million times better t...</td>\n",
       "      <td>Muhammad Asraful both are king bro</td>\n",
       "    </tr>\n",
       "    <tr>\n",
       "      <th>2</th>\n",
       "      <td>925379625683390</td>\n",
       "      <td>100001109331432</td>\n",
       "      <td>অভিনন্দন মায়ের দোয়া ক্রিকেট টিম।</td>\n",
       "      <td>N</td>\n",
       "    </tr>\n",
       "    <tr>\n",
       "      <th>3</th>\n",
       "      <td>1284940428871086</td>\n",
       "      <td>100084824674818</td>\n",
       "      <td>সাকিব আল হাসান সারা পৃথিবীতে একটাই শুধু যুগ যু...</td>\n",
       "      <td>উম্মে হাবিবা খেলার বালডাও বোঝেনা শুধু চিল্লায়...</td>\n",
       "    </tr>\n",
       "    <tr>\n",
       "      <th>4</th>\n",
       "      <td>1816590082125206</td>\n",
       "      <td>100084824674818</td>\n",
       "      <td>খেলবে টাইগার জিতবে টাইগার</td>\n",
       "      <td>N</td>\n",
       "    </tr>\n",
       "    <tr>\n",
       "      <th>...</th>\n",
       "      <td>...</td>\n",
       "      <td>...</td>\n",
       "      <td>...</td>\n",
       "      <td>...</td>\n",
       "    </tr>\n",
       "    <tr>\n",
       "      <th>115</th>\n",
       "      <td>1439810026594450</td>\n",
       "      <td>100003501000108</td>\n",
       "      <td>Srilanka who?</td>\n",
       "      <td>N</td>\n",
       "    </tr>\n",
       "    <tr>\n",
       "      <th>116</th>\n",
       "      <td>885801276214093</td>\n",
       "      <td>100006731566275</td>\n",
       "      <td>Dear Sri Lanka Cricket , Hold on, tight your s...</td>\n",
       "      <td>N</td>\n",
       "    </tr>\n",
       "    <tr>\n",
       "      <th>117</th>\n",
       "      <td>804553018111688</td>\n",
       "      <td>100086237018702</td>\n",
       "      <td>Congratulations\\n.. it was the intent which ma...</td>\n",
       "      <td>N</td>\n",
       "    </tr>\n",
       "    <tr>\n",
       "      <th>118</th>\n",
       "      <td>700458345352125</td>\n",
       "      <td>100053467564385</td>\n",
       "      <td>Very bad decision for the first time in cricke...</td>\n",
       "      <td>N</td>\n",
       "    </tr>\n",
       "    <tr>\n",
       "      <th>119</th>\n",
       "      <td>347439727767460</td>\n",
       "      <td>100005533715503</td>\n",
       "      <td>Congratulations\\ntigers 🐅 Sri Lanka 🇱🇰 much ne...</td>\n",
       "      <td>N</td>\n",
       "    </tr>\n",
       "  </tbody>\n",
       "</table>\n",
       "<p>152 rows × 4 columns</p>\n",
       "</div>"
      ],
      "text/plain": [
       "           comment_id     commenter_id  \\\n",
       "0    7140507969301526  100049145897339   \n",
       "1    6955647011158979  100085616453028   \n",
       "2     925379625683390  100001109331432   \n",
       "3    1284940428871086  100084824674818   \n",
       "4    1816590082125206  100084824674818   \n",
       "..                ...              ...   \n",
       "115  1439810026594450  100003501000108   \n",
       "116   885801276214093  100006731566275   \n",
       "117   804553018111688  100086237018702   \n",
       "118   700458345352125  100053467564385   \n",
       "119   347439727767460  100005533715503   \n",
       "\n",
       "                                          comment_text  \\\n",
       "0                         না জিতলে বাঁশ,\\nজিতলে সাবাস।   \n",
       "1    Our king👑#Babar_Azam is million times better t...   \n",
       "2                     অভিনন্দন মায়ের দোয়া ক্রিকেট টিম।   \n",
       "3    সাকিব আল হাসান সারা পৃথিবীতে একটাই শুধু যুগ যু...   \n",
       "4                            খেলবে টাইগার জিতবে টাইগার   \n",
       "..                                                 ...   \n",
       "115                                      Srilanka who?   \n",
       "116  Dear Sri Lanka Cricket , Hold on, tight your s...   \n",
       "117  Congratulations\\n.. it was the intent which ma...   \n",
       "118  Very bad decision for the first time in cricke...   \n",
       "119  Congratulations\\ntigers 🐅 Sri Lanka 🇱🇰 much ne...   \n",
       "\n",
       "                                                 Reply  \n",
       "0                                                    N  \n",
       "1                   Muhammad Asraful both are king bro  \n",
       "2                                                    N  \n",
       "3    উম্মে হাবিবা খেলার বালডাও বোঝেনা শুধু চিল্লায়...  \n",
       "4                                                    N  \n",
       "..                                                 ...  \n",
       "115                                                  N  \n",
       "116                                                  N  \n",
       "117                                                  N  \n",
       "118                                                  N  \n",
       "119                                                  N  \n",
       "\n",
       "[152 rows x 4 columns]"
      ]
     },
     "execution_count": 93,
     "metadata": {},
     "output_type": "execute_result"
    }
   ],
   "source": [
    "comment_reply(\"pfbid02VoHn39oVv6bs9c41V3DZHZNZhynT2LZz7RYE3vfmfJkgkTxddnzoxnH2a3JnxMZGl\")"
   ]
  },
  {
   "cell_type": "code",
   "execution_count": 97,
   "id": "6ee72dc3",
   "metadata": {},
   "outputs": [
    {
     "name": "stderr",
     "output_type": "stream",
     "text": [
      "C:\\Users\\Hp\\anaconda3\\Lib\\site-packages\\facebook_scraper\\facebook_scraper.py:912: UserWarning: Facebook says 'Unsupported Browser'\n",
      "  warnings.warn(f\"Facebook says 'Unsupported Browser'\")\n"
     ]
    },
    {
     "data": {
      "application/vnd.jupyter.widget-view+json": {
       "model_id": "25fcb65163b740328034e0587a2ba742",
       "version_major": 2,
       "version_minor": 0
      },
      "text/plain": [
       "  0%|          | 0/1000 [00:00<?, ?it/s]"
      ]
     },
     "metadata": {},
     "output_type": "display_data"
    },
    {
     "data": {
      "text/html": [
       "<div>\n",
       "<style scoped>\n",
       "    .dataframe tbody tr th:only-of-type {\n",
       "        vertical-align: middle;\n",
       "    }\n",
       "\n",
       "    .dataframe tbody tr th {\n",
       "        vertical-align: top;\n",
       "    }\n",
       "\n",
       "    .dataframe thead th {\n",
       "        text-align: right;\n",
       "    }\n",
       "</style>\n",
       "<table border=\"1\" class=\"dataframe\">\n",
       "  <thead>\n",
       "    <tr style=\"text-align: right;\">\n",
       "      <th></th>\n",
       "      <th>Commentator</th>\n",
       "      <th>Comment</th>\n",
       "    </tr>\n",
       "  </thead>\n",
       "  <tbody>\n",
       "    <tr>\n",
       "      <th>0</th>\n",
       "      <td>Soab Saiham</td>\n",
       "      <td>I thought Shakib was very commendable good exp...</td>\n",
       "    </tr>\n",
       "    <tr>\n",
       "      <th>1</th>\n",
       "      <td>Îñnöcënť Aamir</td>\n",
       "      <td>Our king👑Babar Azam is million times better th...</td>\n",
       "    </tr>\n",
       "    <tr>\n",
       "      <th>2</th>\n",
       "      <td>Freddy Ált</td>\n",
       "      <td>Angelo Mathews is a very senior player and thi...</td>\n",
       "    </tr>\n",
       "    <tr>\n",
       "      <th>3</th>\n",
       "      <td>Shp Athula Kumara</td>\n",
       "      <td>Once cricket was a gentleman's game.\\n\\nThen u...</td>\n",
       "    </tr>\n",
       "    <tr>\n",
       "      <th>4</th>\n",
       "      <td>Aman Ullah</td>\n",
       "      <td>سری لنکن کھلاڑی انجیلو میتھیوز کرکٹ کی 146 سال...</td>\n",
       "    </tr>\n",
       "    <tr>\n",
       "      <th>...</th>\n",
       "      <td>...</td>\n",
       "      <td>...</td>\n",
       "    </tr>\n",
       "    <tr>\n",
       "      <th>1015</th>\n",
       "      <td>Jobayer Hasan</td>\n",
       "      <td>skill issue</td>\n",
       "    </tr>\n",
       "    <tr>\n",
       "      <th>1016</th>\n",
       "      <td>Shaf NI</td>\n",
       "      <td>Unfair..</td>\n",
       "    </tr>\n",
       "    <tr>\n",
       "      <th>1017</th>\n",
       "      <td>Sasindu H Nanayakkara</td>\n",
       "      <td>Shakib 🖕</td>\n",
       "    </tr>\n",
       "    <tr>\n",
       "      <th>1018</th>\n",
       "      <td>මනෝජ් බංඩාර</td>\n",
       "      <td>Sakib go to hell</td>\n",
       "    </tr>\n",
       "    <tr>\n",
       "      <th>1019</th>\n",
       "      <td>Parvesh Rai Verma</td>\n",
       "      <td>Very shamful bngladesh</td>\n",
       "    </tr>\n",
       "  </tbody>\n",
       "</table>\n",
       "<p>1020 rows × 2 columns</p>\n",
       "</div>"
      ],
      "text/plain": [
       "                Commentator                                            Comment\n",
       "0               Soab Saiham  I thought Shakib was very commendable good exp...\n",
       "1            Îñnöcënť Aamir  Our king👑Babar Azam is million times better th...\n",
       "2                Freddy Ált  Angelo Mathews is a very senior player and thi...\n",
       "3         Shp Athula Kumara  Once cricket was a gentleman's game.\\n\\nThen u...\n",
       "4                Aman Ullah  سری لنکن کھلاڑی انجیلو میتھیوز کرکٹ کی 146 سال...\n",
       "...                     ...                                                ...\n",
       "1015          Jobayer Hasan                                        skill issue\n",
       "1016                Shaf NI                                           Unfair..\n",
       "1017  Sasindu H Nanayakkara                                           Shakib 🖕\n",
       "1018            මනෝජ් බංඩාර                                   Sakib go to hell\n",
       "1019      Parvesh Rai Verma                             Very shamful bngladesh\n",
       "\n",
       "[1020 rows x 2 columns]"
      ]
     },
     "execution_count": 97,
     "metadata": {},
     "output_type": "execute_result"
    }
   ],
   "source": [
    "import facebook_scraper as fs\n",
    "import pandas as pd\n",
    "\n",
    "def comments_info(POST_ID, MAX_COMMENTS=1000):\n",
    "    # Get the post using get_posts function\n",
    "    gen = fs.get_posts(\n",
    "        post_urls=[POST_ID],\n",
    "        options={\"comments\": MAX_COMMENTS, \"progress\": True}\n",
    "    )\n",
    "\n",
    "    # Retrieve the first element of the generator, which is the post\n",
    "    post = next(gen)\n",
    "\n",
    "    # Extract the full comments for the post\n",
    "    info = post['comments_full']\n",
    "    comment = []\n",
    "    commentator = []\n",
    "\n",
    "    for i in range(len(info)):\n",
    "        comment.append(info[i]['comment_text'])\n",
    "        commentator.append(info[i]['commenter_name'])\n",
    "\n",
    "    # Create a DataFrame\n",
    "    datatable = pd.DataFrame({'Commentator': commentator, 'Comment': comment})\n",
    "    \n",
    "    # Display the DataFrame\n",
    "    return datatable\n",
    "\n",
    "# Call the function with a specific POST_ID\n",
    "comments_info(\"pfbid02PvE66z8En8ebiV6xcHKjWdxTrhJc4LCP7cQH3N8GCWC4JjrdbniHyVCZotmsaBb9l\")\n"
   ]
  },
  {
   "cell_type": "code",
   "execution_count": 91,
   "id": "c719c41b",
   "metadata": {},
   "outputs": [
    {
     "data": {
      "text/plain": [
       "{'comment_id': '1035253991009760',\n",
       " 'comment_url': 'https://facebook.com/1035253991009760',\n",
       " 'commenter_id': '100064033193911',\n",
       " 'commenter_url': None,\n",
       " 'commenter_name': 'Aritra Ghosh',\n",
       " 'commenter_meta': None,\n",
       " 'comment_text': \"But as a sportsman Shakib er kokhonoi appeal kra uchit hyni 🙂r seta korleo appeal ferot newa uchit chilo 🙂\\nCricket is a gentleman's game but Shakib is not🤧\",\n",
       " 'comment_time': datetime.datetime(2023, 11, 5, 23, 0),\n",
       " 'comment_image': None,\n",
       " 'comment_reactors': [],\n",
       " 'comment_reactions': None,\n",
       " 'comment_reaction_count': None,\n",
       " 'replies': []}"
      ]
     },
     "execution_count": 91,
     "metadata": {},
     "output_type": "execute_result"
    }
   ],
   "source": [
    "comments[1]"
   ]
  },
  {
   "cell_type": "code",
   "execution_count": 98,
   "id": "19dffaac",
   "metadata": {},
   "outputs": [
    {
     "name": "stderr",
     "output_type": "stream",
     "text": [
      "C:\\Users\\Hp\\anaconda3\\Lib\\site-packages\\facebook_scraper\\facebook_scraper.py:912: UserWarning: Facebook says 'Unsupported Browser'\n",
      "  warnings.warn(f\"Facebook says 'Unsupported Browser'\")\n"
     ]
    },
    {
     "data": {
      "application/vnd.jupyter.widget-view+json": {
       "model_id": "99d8ddfe5fcf490fb54382811ef078ea",
       "version_major": 2,
       "version_minor": 0
      },
      "text/plain": [
       "  0%|          | 0/1000 [00:00<?, ?it/s]"
      ]
     },
     "metadata": {},
     "output_type": "display_data"
    }
   ],
   "source": [
    "dataset = comments_info(\"pfbid02PvE66z8En8ebiV6xcHKjWdxTrhJc4LCP7cQH3N8GCWC4JjrdbniHyVCZotmsaBb9l\")"
   ]
  },
  {
   "cell_type": "code",
   "execution_count": 108,
   "id": "77f32611",
   "metadata": {},
   "outputs": [
    {
     "name": "stdout",
     "output_type": "stream",
     "text": [
      "unknown\n"
     ]
    }
   ],
   "source": [
    "\n",
    "import gender_guesser.detector as gender\n",
    "d = gender.Detector()\n",
    "print(d.get_gender(u\"rita\"))"
   ]
  },
  {
   "cell_type": "code",
   "execution_count": 136,
   "id": "61f80cf5",
   "metadata": {},
   "outputs": [],
   "source": [
    "def gender_detector(x):\n",
    "    import gender_guesser.detector as gender\n",
    "    d = gender.Detector()\n",
    "    gender = d.get_gender(x.capitalize())\n",
    "    return gender "
   ]
  },
  {
   "cell_type": "code",
   "execution_count": 140,
   "id": "130bd915",
   "metadata": {},
   "outputs": [
    {
     "data": {
      "text/plain": [
       "'male'"
      ]
     },
     "execution_count": 140,
     "metadata": {},
     "output_type": "execute_result"
    }
   ],
   "source": [
    "gender_detector(\"bob\")"
   ]
  },
  {
   "cell_type": "code",
   "execution_count": 142,
   "id": "04fa095f",
   "metadata": {},
   "outputs": [],
   "source": [
    "dataset['gender']= dataset['Commentator'].apply(gender_detector)"
   ]
  },
  {
   "cell_type": "code",
   "execution_count": 144,
   "id": "65a41a8d",
   "metadata": {},
   "outputs": [
    {
     "data": {
      "text/plain": [
       "unknown    1020\n",
       "Name: gender, dtype: int64"
      ]
     },
     "execution_count": 144,
     "metadata": {},
     "output_type": "execute_result"
    }
   ],
   "source": [
    "dataset['gender'].value_counts()"
   ]
  }
 ],
 "metadata": {
  "kernelspec": {
   "display_name": "Python 3 (ipykernel)",
   "language": "python",
   "name": "python3"
  },
  "language_info": {
   "codemirror_mode": {
    "name": "ipython",
    "version": 3
   },
   "file_extension": ".py",
   "mimetype": "text/x-python",
   "name": "python",
   "nbconvert_exporter": "python",
   "pygments_lexer": "ipython3",
   "version": "3.11.3"
  }
 },
 "nbformat": 4,
 "nbformat_minor": 5
}
